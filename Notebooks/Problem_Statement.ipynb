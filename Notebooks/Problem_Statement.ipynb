{
  "nbformat": 4,
  "nbformat_minor": 0,
  "metadata": {
    "colab": {
      "name": "Problem Statement.ipynb",
      "provenance": []
    },
    "kernelspec": {
      "name": "python3",
      "display_name": "Python 3"
    },
    "language_info": {
      "name": "python"
    }
  },
  "cells": [
    {
      "cell_type": "markdown",
      "metadata": {
        "id": "HJMnvDz1bhX0"
      },
      "source": [
        "# Problem Statement"
      ]
    },
    {
      "cell_type": "markdown",
      "metadata": {
        "id": "eDa10scubkIk"
      },
      "source": [
        "## Context"
      ]
    },
    {
      "cell_type": "markdown",
      "metadata": {
        "id": "xUivGy7QbubK"
      },
      "source": [
        "The Airlines is a place that gives transportation via flights from one place to another. The Airlines also need to give a great service to the passenger to keep them safe. However, there are a lot of factor to their satisfaction while using the Airlines.\n",
        "\n",
        "Through this project, the machine learning model has a task to predict whether a passenger has a great or neutral/dissatisfaction satisfaction while using the Airlines. The dataset contain features such as cleanliness, baggage handling, and other services to predict its satisfactory."
      ]
    },
    {
      "cell_type": "markdown",
      "metadata": {
        "id": "9d3OgEPFd-u4"
      },
      "source": [
        "## Business Objective"
      ]
    },
    {
      "cell_type": "markdown",
      "metadata": {
        "id": "hhf5cgzZeC1V"
      },
      "source": [
        "The business objective for this project is to predict passengers' satisfactory whether are they satisfied or not while using the airlines in order to help Airlines department improving their services"
      ]
    },
    {
      "cell_type": "markdown",
      "metadata": {
        "id": "xIkB1l_NeU4_"
      },
      "source": [
        "## Output"
      ]
    },
    {
      "cell_type": "markdown",
      "metadata": {
        "id": "5qJ7UfYTeXN3"
      },
      "source": [
        "The output of this Machine Learning project is to predict passengers' satisfaction from its features such as cleanliness, baggage handling, Onboard services and etc."
      ]
    },
    {
      "cell_type": "markdown",
      "metadata": {
        "id": "5ewy5F0PfFpQ"
      },
      "source": [
        "## Machine Learning Task"
      ]
    },
    {
      "cell_type": "markdown",
      "metadata": {
        "id": "4d1OCRB7fIVI"
      },
      "source": [
        "Airlines Passenger Satisfaction Machine Learning project will using a **Supervised Learning** because there are past data about the satisfaction target. The model will use the past data to predict future unseen data"
      ]
    },
    {
      "cell_type": "markdown",
      "metadata": {
        "id": "UYm2uRwSgrFj"
      },
      "source": [
        "## Performance Measurement"
      ]
    },
    {
      "cell_type": "markdown",
      "metadata": {
        "id": "lvcVlmkkguBI"
      },
      "source": [
        "This machine learning model is a **Classification** Model, so in order to measure its performance, we will use metrics such as Precision, Recall, and F1 score."
      ]
    },
    {
      "cell_type": "markdown",
      "metadata": {
        "id": "1nDL6tNmhGxz"
      },
      "source": [
        "## Acknowledge"
      ]
    },
    {
      "cell_type": "markdown",
      "metadata": {
        "id": "Zld_kMYDhLGN"
      },
      "source": [
        "This project using dataset from Kaggle (**Airline Passenger Satisfaction**) : https://www.kaggle.com/teejmahal20/airline-passenger-satisfaction"
      ]
    }
  ]
}