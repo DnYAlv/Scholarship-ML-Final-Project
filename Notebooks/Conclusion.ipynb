{
  "nbformat": 4,
  "nbformat_minor": 0,
  "metadata": {
    "colab": {
      "name": "Conclusion.ipynb",
      "provenance": []
    },
    "kernelspec": {
      "name": "python3",
      "display_name": "Python 3"
    },
    "language_info": {
      "name": "python"
    }
  },
  "cells": [
    {
      "cell_type": "markdown",
      "metadata": {
        "id": "_lGCVFO8J395"
      },
      "source": [
        "In order to achive the Business Objective, I tested and validated some of models to train the datasets. After some training and validating, I found out that **CatBoostClassifier** model seems to fulfill my model needs.\n",
        "\n",
        "This model give about 97% of f1-score, means that this models can predict well enough for the unseen datasets"
      ]
    }
  ]
}